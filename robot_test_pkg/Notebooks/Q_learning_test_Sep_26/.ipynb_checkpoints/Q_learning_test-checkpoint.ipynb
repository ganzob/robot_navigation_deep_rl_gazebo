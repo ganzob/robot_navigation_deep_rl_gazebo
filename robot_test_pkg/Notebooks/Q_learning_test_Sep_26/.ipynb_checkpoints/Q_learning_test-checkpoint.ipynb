{
 "cells": [
  {
   "cell_type": "code",
   "execution_count": 1,
   "metadata": {},
   "outputs": [],
   "source": [
    "import numpy as np\n",
    "import rospy\n",
    "import sys\n",
    "#from geometry_msgs.msg import Twist\n",
    "#from sensor_msgs.msg import LaserScan\n",
    "#from std_srvs.srv import Empty\n",
    "#from nav_msgs.msg import Odometry\n",
    "#from sensor_msgs.msg import Imu\n",
    "import time\n",
    "from tqdm import tqdm\n",
    "import random\n",
    "import keyboard\n",
    "#import Mobile_Control\n",
    "\n",
    "from geometry_msgs.msg import Twist\n",
    "from sensor_msgs.msg import LaserScan\n",
    "from std_srvs.srv import Empty\n",
    "from nav_msgs.msg import Odometry\n",
    "from sensor_msgs.msg import Imu"
   ]
  },
  {
   "cell_type": "code",
   "execution_count": 2,
   "metadata": {},
   "outputs": [],
   "source": [
    "cmd_vel=\"/cmd_vel\"\n",
    "laser_topic=\"/scan\"\n",
    "odom_topic=\"/odom\"\n",
    "imu_topic = \"/imu\""
   ]
  },
  {
   "cell_type": "code",
   "execution_count": 3,
   "metadata": {},
   "outputs": [],
   "source": [
    "class Mobile_Control:\n",
    "    def __init__(self):\n",
    "        self.cmd_vel = rospy.Publisher(cmd_vel,Twist,queue_size =1)\n",
    "        self.subscriber = rospy.Subscriber(laser_topic,LaserScan,callback=self.laser_callback)\n",
    "        self.subscriber_odo=rospy.Subscriber(odom_topic,Odometry,callback=self.odom_callback)\n",
    "        self.subscriber_imu=rospy.Subscriber(imu_topic, Imu, callback=self.imu_callback)\n",
    "        self.reset = rospy.ServiceProxy(\"/gazebo/reset_simulation\",Empty)\n",
    "        self.pause = rospy.ServiceProxy(\"/gazebo/pause_physics\",Empty)\n",
    "        self.unpause = rospy.ServiceProxy(\"/gazebo/unpause_physics\",Empty)\n",
    "        self.i =0\n",
    "        self.count =0\n",
    "        self.vel=Twist()\n",
    "        self.vel.linear.x = 0\n",
    "        self.vel.linear.y = 0\n",
    "        self.vel.linear.z = 0\n",
    "        self.vel.angular.x = 0\n",
    "        self.vel.angular.y = 0\n",
    "        self.vel.angular.z = 0\n",
    "        \n",
    "    def odom_callback(self,msg1):\n",
    "        self.odom_data=msg1.twist.twist\n",
    "        self.odom_pose=msg1.pose.pose.position\n",
    "    def laser_callback(self, msg):\n",
    "        self.laser_data=msg.ranges\n",
    "        self.data=np.array(self.laser_data)\n",
    "        self.laser_mask=np.logical_or(self.data>2, self.data<0)\n",
    "        self.range_angels=np.arange(len(self.laser_data))\n",
    "        self.i=0\n",
    "        self.range_angels2=self.range_angels[self.laser_mask]\n",
    "        for self.i in (self.range_angels2):\n",
    "            self.data[self.i]=2\n",
    "        self.data_laser=np.round(self.data[:])\n",
    "    def imu_callback(self, msg_imu):\n",
    "        self.imu_x=msg_imu.orientation.x\n",
    "        self.imu_y=msg_imu.orientation.y"
   ]
  },
  {
   "cell_type": "code",
   "execution_count": null,
   "metadata": {},
   "outputs": [],
   "source": []
  },
  {
   "cell_type": "code",
   "execution_count": 4,
   "metadata": {},
   "outputs": [
    {
     "data": {
      "text/plain": []
     },
     "execution_count": 4,
     "metadata": {},
     "output_type": "execute_result"
    }
   ],
   "source": [
    "Robot = Mobile_Control()\n",
    "Robot.reset()"
   ]
  },
  {
   "cell_type": "code",
   "execution_count": 5,
   "metadata": {},
   "outputs": [
    {
     "ename": "AttributeError",
     "evalue": "'Mobile_Control' object has no attribute 'odom_data'",
     "output_type": "error",
     "traceback": [
      "\u001b[0;31m---------------------------------------------------------------------------\u001b[0m",
      "\u001b[0;31mAttributeError\u001b[0m                            Traceback (most recent call last)",
      "\u001b[0;32m<ipython-input-5-42b16bfc22e1>\u001b[0m in \u001b[0;36m<module>\u001b[0;34m\u001b[0m\n\u001b[0;32m----> 1\u001b[0;31m \u001b[0mprint\u001b[0m\u001b[0;34m(\u001b[0m\u001b[0mRobot\u001b[0m\u001b[0;34m.\u001b[0m\u001b[0modom_data\u001b[0m\u001b[0;34m)\u001b[0m\u001b[0;34m\u001b[0m\u001b[0;34m\u001b[0m\u001b[0m\n\u001b[0m",
      "\u001b[0;31mAttributeError\u001b[0m: 'Mobile_Control' object has no attribute 'odom_data'"
     ]
    }
   ],
   "source": [
    "print(Robot.odom_data)"
   ]
  },
  {
   "cell_type": "code",
   "execution_count": 13,
   "metadata": {},
   "outputs": [],
   "source": [
    "#Hyperparameters\n",
    "gamma = 0.9 \n",
    "lr =0.6\n",
    "lr_decay=0.999\n",
    "num_episodes =10000\n",
    "epsilon =0.4\n",
    "epsilon_decay =0.999999\n",
    "\n",
    "actions=[[1,0],[0.5,1],[0.5,-1],[0,2],[0,-2],[-0.8,0]]\n",
    "legal_actions=len(actions)\n",
    "s=np.zeros([3,3,3,3,3,3,3])   \n",
    "#Q=np.zeros((3,3,3,3,3,3\n",
    "Q=np.load('Q-table-sp.npy')\n",
    "#Q=np.zeros((s.size,legal_actions))"
   ]
  },
  {
   "cell_type": "code",
   "execution_count": 14,
   "metadata": {},
   "outputs": [],
   "source": [
    "def get_state():\n",
    "    sp_ang=Robot.odom_data.angular.z\n",
    "    if(sp_ang<-0.2):\n",
    "        ang_sp=0\n",
    "    elif(sp_ang>0.2):\n",
    "        ang_sp=1\n",
    "    else:\n",
    "        ang_sp=2    \n",
    "    sp_lin=Robot.odom_data.linear.x\n",
    "    if(sp_lin<-0.2):\n",
    "        lin_sp=0\n",
    "    elif(sp_lin>0.2):\n",
    "        lin_sp=1\n",
    "    else:\n",
    "        lin_sp=2        \n",
    "    s=Robot.data_laser\n",
    "    s=np.append(s,[ang_sp,lin_sp])\n",
    "\n",
    "       #state index\n",
    "       #Robot.pause()\n",
    "    s0=(int)(s[0]*81+s[1]*27+s[2]*9+s[3]*3+s[4]+243*s[5]+729*s[6])\n",
    "    #epsilon greedy. to choose random actions initially when Q is all zeros\n",
    "    return s0"
   ]
  },
  {
   "cell_type": "code",
   "execution_count": 15,
   "metadata": {},
   "outputs": [
    {
     "ename": "AttributeError",
     "evalue": "'Mobile_Control' object has no attribute 'imu_x'",
     "output_type": "error",
     "traceback": [
      "\u001b[0;31m---------------------------------------------------------------------------\u001b[0m",
      "\u001b[0;31mAttributeError\u001b[0m                            Traceback (most recent call last)",
      "\u001b[0;32m<ipython-input-15-7fb928274e5b>\u001b[0m in \u001b[0;36m<module>\u001b[0;34m\u001b[0m\n\u001b[0;32m----> 1\u001b[0;31m \u001b[0mprint\u001b[0m\u001b[0;34m(\u001b[0m\u001b[0mRobot\u001b[0m\u001b[0;34m.\u001b[0m\u001b[0mimu_x\u001b[0m\u001b[0;34m)\u001b[0m\u001b[0;34m\u001b[0m\u001b[0;34m\u001b[0m\u001b[0m\n\u001b[0m",
      "\u001b[0;31mAttributeError\u001b[0m: 'Mobile_Control' object has no attribute 'imu_x'"
     ]
    }
   ],
   "source": [
    "print(Robot.imu_x)"
   ]
  },
  {
   "cell_type": "code",
   "execution_count": 8,
   "metadata": {},
   "outputs": [
    {
     "name": "stderr",
     "output_type": "stream",
     "text": [
      "\r",
      "  0%|          | 0/10000 [00:00<?, ?it/s]"
     ]
    },
    {
     "ename": "AttributeError",
     "evalue": "'Mobile_Control' object has no attribute 'imu_x'",
     "output_type": "error",
     "traceback": [
      "\u001b[0;31m---------------------------------------------------------------------------\u001b[0m",
      "\u001b[0;31mAttributeError\u001b[0m                            Traceback (most recent call last)",
      "\u001b[0;32m<ipython-input-8-38141f02c97e>\u001b[0m in \u001b[0;36m<module>\u001b[0;34m\u001b[0m\n\u001b[1;32m      3\u001b[0m \u001b[0;32mfor\u001b[0m \u001b[0mi\u001b[0m \u001b[0;32min\u001b[0m \u001b[0mprocess_bar\u001b[0m\u001b[0;34m:\u001b[0m\u001b[0;34m\u001b[0m\u001b[0;34m\u001b[0m\u001b[0m\n\u001b[1;32m      4\u001b[0m \u001b[0;34m\u001b[0m\u001b[0m\n\u001b[0;32m----> 5\u001b[0;31m     \u001b[0;32mif\u001b[0m\u001b[0;34m(\u001b[0m\u001b[0mabs\u001b[0m\u001b[0;34m(\u001b[0m\u001b[0mRobot\u001b[0m\u001b[0;34m.\u001b[0m\u001b[0mimu_x\u001b[0m\u001b[0;34m)\u001b[0m\u001b[0;34m>\u001b[0m\u001b[0;36m0.3\u001b[0m \u001b[0;32mor\u001b[0m \u001b[0mabs\u001b[0m\u001b[0;34m(\u001b[0m\u001b[0mRobot\u001b[0m\u001b[0;34m.\u001b[0m\u001b[0mimu_y\u001b[0m\u001b[0;34m)\u001b[0m\u001b[0;34m>\u001b[0m\u001b[0;36m0.3\u001b[0m\u001b[0;34m)\u001b[0m\u001b[0;34m:\u001b[0m\u001b[0;34m\u001b[0m\u001b[0;34m\u001b[0m\u001b[0m\n\u001b[0m\u001b[1;32m      6\u001b[0m         \u001b[0mRobot\u001b[0m\u001b[0;34m.\u001b[0m\u001b[0mreset\u001b[0m\u001b[0;34m(\u001b[0m\u001b[0;34m)\u001b[0m\u001b[0;34m\u001b[0m\u001b[0;34m\u001b[0m\u001b[0m\n\u001b[1;32m      7\u001b[0m     \u001b[0;32mif\u001b[0m\u001b[0;34m(\u001b[0m\u001b[0mabs\u001b[0m\u001b[0;34m(\u001b[0m\u001b[0mRobot\u001b[0m\u001b[0;34m.\u001b[0m\u001b[0modom_pose\u001b[0m\u001b[0;34m.\u001b[0m\u001b[0mx\u001b[0m\u001b[0;34m)\u001b[0m\u001b[0;34m>\u001b[0m\u001b[0;36m8\u001b[0m \u001b[0;32mor\u001b[0m \u001b[0mabs\u001b[0m\u001b[0;34m(\u001b[0m\u001b[0mRobot\u001b[0m\u001b[0;34m.\u001b[0m\u001b[0modom_pose\u001b[0m\u001b[0;34m.\u001b[0m\u001b[0my\u001b[0m\u001b[0;34m)\u001b[0m\u001b[0;34m>\u001b[0m\u001b[0;36m8\u001b[0m\u001b[0;34m)\u001b[0m\u001b[0;34m:\u001b[0m\u001b[0;34m\u001b[0m\u001b[0;34m\u001b[0m\u001b[0m\n",
      "\u001b[0;31mAttributeError\u001b[0m: 'Mobile_Control' object has no attribute 'imu_x'"
     ]
    }
   ],
   "source": [
    "# Train model\n",
    "process_bar = tqdm(range(num_episodes))\n",
    "for i in process_bar:\n",
    "\n",
    "    if(abs(Robot.imu_x)>0.3 or abs(Robot.imu_y)>0.3):\n",
    "        Robot.reset()\n",
    "    if(abs(Robot.odom_pose.x)>8 or abs(Robot.odom_pose.y)>8):\n",
    "        Robot.reset()\n",
    "\n",
    "    s0=get_state()\n",
    "    print('s0:',s0)\n",
    "    #epsilon greedy. to choose random actions initially when Q is all zeros\n",
    "    if np.random.random()<epsilon:\n",
    "        action_index=np.random.randint(0,legal_actions)\n",
    "        epsilon = epsilon*epsilon_decay\n",
    "        #print('Took random action')\n",
    "    else:\n",
    "        action_index=np.argmax(Q[s0,:])\n",
    "\n",
    "    a =actions[action_index]\n",
    "    Robot.vel.linear.x = a[0]\n",
    "    Robot.vel.angular.z=a[1]\n",
    "    Robot.cmd_vel.publish(Robot.vel)\n",
    "\n",
    "    time.sleep(0.1)\n",
    "    #get next state index\n",
    "    j=get_state()\n",
    "    reward=max(Robot.odom_data.linear.x,0)\n",
    "\n",
    "    Q[s0,action_index]= (1-lr)*Q[s0,action_index]+ lr*(reward+gamma*np.max(Q[j,:]))\n"
   ]
  },
  {
   "cell_type": "code",
   "execution_count": null,
   "metadata": {},
   "outputs": [],
   "source": [
    "'''\n",
    "#Test model\n",
    "Q=np.load('Q-table-sp.npy')\n",
    "\n",
    "while(1):\n",
    "    if(abs(Robot.imu_x)>0.3 or abs(Robot.imu_y)>0.3):\n",
    "        Robot.reset()\n",
    "    if(abs(Robot.odom_pose.x)>8 or abs(Robot.odom_pose.x)>8):\n",
    "        Robot.reset() \n",
    "    s=Robot.data_laser\n",
    "    sp_ang=Robot.odom_data.angular.z\n",
    "    if(sp_ang<-0.2):\n",
    "        ang_sp=0\n",
    "    elif(sp_ang>0.2):\n",
    "        ang_sp=1\n",
    "    else:\n",
    "        ang_sp=2    \n",
    "    sp_lin=Robot.odom_data.linear.x\n",
    "    if(sp_lin<-0.2):\n",
    "        lin_sp=0\n",
    "    elif(sp_lin>0.2):\n",
    "        lin_sp=1\n",
    "    else:\n",
    "        lin_sp=2\n",
    "\n",
    "    s=np.append(s,[ang_sp,lin_sp])\n",
    "    s0=(int)(s[0]*81+s[1]*27+s[2]*9+s[3]*3+s[4]+243*s[5]+729*s[6])\n",
    "    print('sp:',ang_sp,lin_sp)\n",
    "    print('s0:',s0)\n",
    "\n",
    "    if np.random.random()<0.2:\n",
    "        print(\"Random\")\n",
    "        action_index=np.random.randint(0,legal_actions)\n",
    "        a =actions[action_index]\n",
    "    else:\n",
    "        action_index=np.argmax(Q[s0,:])\n",
    "        print('action index:',action_index)\n",
    "        print(Q[s0,:])\n",
    "\n",
    "\n",
    "    a =actions[action_index]\n",
    "    Robot.vel.linear.x = a[0]\n",
    "    Robot.vel.angular.z=a[1]\n",
    "    Robot.cmd_vel.publish(Robot.vel)    \n",
    "    print('-------------------')\n",
    "    time.sleep(1)\n",
    "    \n",
    "'''"
   ]
  },
  {
   "cell_type": "code",
   "execution_count": null,
   "metadata": {},
   "outputs": [],
   "source": []
  }
 ],
 "metadata": {
  "kernelspec": {
   "display_name": "Python 3",
   "language": "python",
   "name": "python3"
  },
  "language_info": {
   "codemirror_mode": {
    "name": "ipython",
    "version": 3
   },
   "file_extension": ".py",
   "mimetype": "text/x-python",
   "name": "python",
   "nbconvert_exporter": "python",
   "pygments_lexer": "ipython3",
   "version": "3.6.8"
  }
 },
 "nbformat": 4,
 "nbformat_minor": 2
}
