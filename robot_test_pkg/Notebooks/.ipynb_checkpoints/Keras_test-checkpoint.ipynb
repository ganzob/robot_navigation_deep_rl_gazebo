{
 "cells": [
  {
   "cell_type": "code",
   "execution_count": 1,
   "metadata": {},
   "outputs": [
    {
     "name": "stderr",
     "output_type": "stream",
     "text": [
      "Using TensorFlow backend.\n"
     ]
    }
   ],
   "source": [
    "import numpy as np\n",
    "import pickle\n",
    "import rospy\n",
    "import sys\n",
    "from geometry_msgs.msg import Twist\n",
    "from sensor_msgs.msg import Imu\n",
    "from std_srvs.srv import Empty\n",
    "from nav_msgs.msg import Odometry\n",
    "import time\n",
    "import pandas as pd\n",
    "from matplotlib import pyplot as plt\n",
    "from collections import deque\n",
    "import random\n",
    "from keras import Sequential\n",
    "from keras.layers import Dense\n",
    "from keras.optimizers import Adam"
   ]
  },
  {
   "cell_type": "code",
   "execution_count": null,
   "metadata": {},
   "outputs": [],
   "source": [
    "class Mobile_Control:\n",
    "    def __init__(self):\n",
    "        self.cmd_vel = rospy.Publisher(cmd_vel,Twist,queue_size =1)\n",
    "        self.subscriber = rospy.Subscriber()\n",
    "        self.reset = rospy.ServiceProxy(\"/gazebo/reset_simulation\",Empty)\n",
    "        self.pause = rospy.ServiceProxy(\"/gazebo/pause_physics\",Empty)\n",
    "        self.unpause = rospy.ServiceProxy(\"/gazebo/unpause_physics\",Empty)\n",
    "        self.i =0\n",
    "        self.count =0\n",
    "        self.vel=Twist()\n",
    "        self.vel.linear.y = 0\n",
    "        self.vel.linear.z = 0\n",
    "        self.vel.angular.x =0\n",
    "        self.vel.angular.y = 0\n",
    "        self.vel.angular.z = 0\n",
    "        self.y_angle =0\n"
   ]
  },
  {
   "cell_type": "code",
   "execution_count": null,
   "metadata": {},
   "outputs": [],
   "source": []
  }
 ],
 "metadata": {
  "kernelspec": {
   "display_name": "Python 2",
   "language": "python",
   "name": "python2"
  },
  "language_info": {
   "codemirror_mode": {
    "name": "ipython",
    "version": 2
   },
   "file_extension": ".py",
   "mimetype": "text/x-python",
   "name": "python",
   "nbconvert_exporter": "python",
   "pygments_lexer": "ipython2",
   "version": "2.7.15"
  }
 },
 "nbformat": 4,
 "nbformat_minor": 2
}
